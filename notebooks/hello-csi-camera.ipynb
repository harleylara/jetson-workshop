{
 "cells": [
  {
   "cell_type": "markdown",
   "id": "b807f512",
   "metadata": {},
   "source": [
    "# Hello CSI Camera"
   ]
  },
  {
   "cell_type": "markdown",
   "id": "80d4cc94",
   "metadata": {},
   "source": [
    "## CSI (Camera Serial Interface) Cameras"
   ]
  },
  {
   "cell_type": "markdown",
   "id": "3b56460d",
   "metadata": {},
   "source": [
    "This notebook is designed to test that the camera is functioning as expected. Of course, the camera must be connected to the MIPI CSI port, make sure the flex is in good condition and remove any obstructions on the camera lens such as a film or cover."
   ]
  },
  {
   "cell_type": "markdown",
   "id": "316367e0",
   "metadata": {},
   "source": [
    "## Check to see if the device is available"
   ]
  },
  {
   "cell_type": "markdown",
   "id": "92f401c9",
   "metadata": {},
   "source": [
    "Execute the following system command to list all video devices on the Jetson Nano. If your camera doesn't show up with a device id, check your connection. You should get an output similar to\n",
    "\n",
    "```\n",
    "crw-rw----+ 1 root video 81, 0 Jan 11 14:08 /dev/video0\n",
    "```"
   ]
  },
  {
   "cell_type": "code",
   "execution_count": null,
   "id": "24a9bbff",
   "metadata": {},
   "outputs": [],
   "source": [
    "!ls -ltrh /dev/video*"
   ]
  },
  {
   "cell_type": "markdown",
   "id": "04f947c8",
   "metadata": {},
   "source": [
    "## Create the camera object"
   ]
  },
  {
   "cell_type": "markdown",
   "id": "a7688102",
   "metadata": {},
   "source": [
    "First, create a camera object by importing the `CSICamera` class from the library by executing the following Python code cell. Please note, you can only create one `CSICamera` instance."
   ]
  },
  {
   "cell_type": "code",
   "execution_count": null,
   "id": "62525b44",
   "metadata": {},
   "outputs": [],
   "source": [
    "from jetcam.csi_camera import CSICamera\n",
    "\n",
    "camera = CSICamera(width=224, height=224, flip_method=6)"
   ]
  },
  {
   "cell_type": "code",
   "execution_count": null,
   "id": "39bfc709",
   "metadata": {},
   "outputs": [],
   "source": [
    "image = camera.read()\n",
    "\n",
    "print(image.shape)"
   ]
  },
  {
   "cell_type": "markdown",
   "id": "29ce7ecb",
   "metadata": {},
   "source": [
    "## Create a widget to view the image stream"
   ]
  },
  {
   "cell_type": "markdown",
   "id": "94965182",
   "metadata": {},
   "source": [
    "The next step is to create a widget to render the image coming from the camera."
   ]
  },
  {
   "cell_type": "code",
   "execution_count": null,
   "id": "9ad939c8",
   "metadata": {},
   "outputs": [],
   "source": [
    "import ipywidgets\n",
    "from IPython.display import display\n",
    "from jetcam.utils import bgr8_to_jpeg\n",
    "\n",
    "image_widget = ipywidgets.Image(format='jpeg')\n",
    "\n",
    "image_widget.value = bgr8_to_jpeg(image)\n",
    "\n",
    "display(image_widget)"
   ]
  },
  {
   "cell_type": "markdown",
   "id": "b6280ec5",
   "metadata": {},
   "source": [
    "You should see an image from the camera if all is working correctly. If there seems to be an image but it's fuzzy or a funny color, check to make sure there is no protective film or cap on the lens.\n",
    "\n",
    "Now let's watch a live stream from the camera. Set the `running` value of the camera to continuously update the value in background. This allows you to attach \"callbacks\" to the camera value changes.\n",
    "\n",
    "The \"callback\" here is the function, `update_image`, which is attached by calling the `observe` method below. `update_image` is executed whenever there is a new image available to process, which is then displayed in the widget."
   ]
  },
  {
   "cell_type": "code",
   "execution_count": null,
   "id": "3918b23c",
   "metadata": {},
   "outputs": [],
   "source": [
    "camera.running = True\n",
    "\n",
    "def update_image(change):\n",
    "    image = change['new']\n",
    "    image_widget.value = bgr8_to_jpeg(image)\n",
    "    \n",
    "camera.observe(update_image, names='value')"
   ]
  },
  {
   "cell_type": "markdown",
   "id": "25617a91",
   "metadata": {},
   "source": [
    "If you move something in front of the camera, you should now see the live video stream in the widget. To stop it, unattach the callback with the unobserve method."
   ]
  },
  {
   "cell_type": "code",
   "execution_count": null,
   "id": "c2186d46",
   "metadata": {},
   "outputs": [],
   "source": [
    "camera.unobserve(update_image, names='value')"
   ]
  },
  {
   "cell_type": "markdown",
   "id": "708bdf9f",
   "metadata": {},
   "source": [
    "> **Tip** You can move the widgets (or any cell) to new window tabs in JupyterLab by right-clicking the cell and selecting \"Create New View for Output\". This way, you can continue to scroll down the JupyterLab notebook and still see the camera view"
   ]
  },
  {
   "cell_type": "markdown",
   "id": "31cb039b",
   "metadata": {},
   "source": [
    "## Another way to view the image stream"
   ]
  },
  {
   "cell_type": "code",
   "execution_count": null,
   "id": "31d4ad36",
   "metadata": {},
   "outputs": [],
   "source": [
    "import traitlets\n",
    "\n",
    "camera_link = traitlets.dlink((camera, 'value'), (image_widget, 'value'), transform=bgr8_to_jpeg)"
   ]
  },
  {
   "cell_type": "markdown",
   "id": "6ba7b116",
   "metadata": {},
   "source": [
    "You can remove the camera/widget link with the unlink method."
   ]
  },
  {
   "cell_type": "code",
   "execution_count": null,
   "id": "2eae81db",
   "metadata": {},
   "outputs": [],
   "source": [
    "camera_link.unlink()"
   ]
  },
  {
   "cell_type": "markdown",
   "id": "432e9109",
   "metadata": {},
   "source": [
    "## Shut down the kernel of this notebook to release the camera resource. !!"
   ]
  }
 ],
 "metadata": {
  "kernelspec": {
   "display_name": "Python 3",
   "language": "python",
   "name": "python3"
  },
  "language_info": {
   "codemirror_mode": {
    "name": "ipython",
    "version": 3
   },
   "file_extension": ".py",
   "mimetype": "text/x-python",
   "name": "python",
   "nbconvert_exporter": "python",
   "pygments_lexer": "ipython3",
   "version": "3.6.9"
  }
 },
 "nbformat": 4,
 "nbformat_minor": 5
}
