{
 "cells": [
  {
   "cell_type": "markdown",
   "metadata": {},
   "source": [
    "## First Boot"
   ]
  },
  {
   "cell_type": "markdown",
   "metadata": {},
   "source": [
    "There are two ways to interact with the developer kit:\n",
    "\n",
    "1. With display, keyboard and mouse attached.\n",
    "2. Via connection from another computer headless mode.\n",
    "\n",
    "The display connected mode can be realized by taking the power supply from **micro-USD** port or **DC power supply**. In this case both initial modes (graphic and head-less) are configured with DC power supply. To enable the power supply through the DC Barrel Power Jack it is necessary to place a jumper on the pins **[J48]**.\n",
    "\n",
    "<center><img src=\"./assets/jumper_j48.png\"></center>\n"
   ]
  },
  {
   "cell_type": "markdown",
   "metadata": {},
   "source": [
    "## Initial Setup with Display Attached\n",
    "\n",
    "Requirements:\n",
    "\n",
    "- External monitor\n",
    "- Keyboard\n",
    "- Mouse\n",
    "- DC power supply\n",
    "\n",
    "Insert the microSD card **(with system image already written to it)** into the slot on the underside of the Jetson Nano module. Connect the peripherals, mouse, keyboard, monitor and of course the DC power supply.\n",
    "\n",
    "Press the **Power** button to start the Jetson.\n",
    "\n",
    "When you boot the first time, the developer kit will take you through some initial setup, including:\n",
    "\n",
    "* Review and accept NVIDIA Jetson software EULA\n",
    "* Select system language, keyboard layout, and time zone\n",
    "* Create username, password, and computer name\n",
    "* Select APP partition size—it is recommended to use the max size suggested"
   ]
  },
  {
   "cell_type": "markdown",
   "metadata": {},
   "source": [
    "## Initial Setup Headless Mode\n",
    "\n",
    "To complete setup when no display is attached to the developer kit, you’ll need to connect the developer kit to another computer and then communicate with it via a terminal application (e.g., PuTTY) to handle the USB serial communication on that other computer.\n",
    "\n",
    "> Headless initial configuration requires the developer kit to be powered by a DC power supply with barrel jack connector, since the Micro-USB port is required to access the initial configuration prompts.\n",
    "\n",
    "### For Windows users\n",
    "\n",
    "Right click the Windows Start icon and select “Device Manager.”\n",
    "\n",
    "<center><img src=\"./assets/win_icon.png\"></center>\n",
    "\n",
    "Open the **Ports (COM & LPT)** to find the COM port number for USB Serial Device (in this case COM 3)\n",
    "\n",
    "<center><img src=\"./assets/device_manager.png\"></center>\n",
    "\n",
    "Double click each USB Serial Device entry so you can check its properties. Go to the **Details** tab, in property select **Hardware Ids**. If you see **VID 0955** and **PID 7020**, that USB Serial Device for your Jetson developer kit. Note the COM port name (COM3 in this example) for later use.\n",
    "\n",
    "<center><img src=\"./assets/com_details.png\"></center>\n",
    "\n",
    "**Open the COM port on PuTTY**\n",
    "\n",
    "PuTTY is one of the most widely used terminal applications for accessing serial consoles. You can use other terminal applications, but if you don’t have any on your Windows PC, you can download PuTTY from [here](https://www.chiark.greenend.org.uk/~sgtatham/putty/latest.html).\n",
    "\n",
    "Open the PuTTY application. When **Session** is selected in the left **Category** panel, input the COM port name for **Serial line** and **115200** for **Speed**.\n",
    "\n",
    "<center><img src=\"./assets/putty.png\"></center>\n",
    "\n",
    "Click **Open** to connect to the console.\n",
    "\n",
    "### For Linux users\n",
    "\n",
    "Locate the tty device Before connecting to your Jetson developer kit for initial setup, check to see what Serial devices are already shown on your Linux computer.\n",
    "\n",
    "    $ dmesg | grep --color 'tty'\n",
    "\n",
    "Connect your Linux computer to the developer kit’s Micro-USB port and run the same command to find what’s newly added.\n",
    "\n",
    "    $ dmesg | grep --color 'tty'\n",
    "    …\n",
    "    …\n",
    "    [xxxxxx.xxxxxx] cdc_acm 1-5:1.2: ttyACM0: USB ACM device\n",
    "\n",
    "The new serial device is for your Jetson developer kit.\n",
    "\n",
    "    $ ls -l /dev/ttyACM0\n",
    "    crw-rw---- 1 root dialout 166, 0 Oct  2 02:45 /dev/ttyACM0\n",
    "\n",
    "**Screen command**\n",
    "\n",
    "Install the Screen program on your Linux computer if it is now already available. For example, use this command to install Screen if you are running Ubuntu.\n",
    "\n",
    "    $ sudo apt-get install -y screen\n",
    "\n",
    "Use the device name discovered previously as a command line option for the `screen` command.\n",
    "\n",
    "    $ sudo screen /dev/ttyACM0 115200\n",
    "\n",
    "**Terminate screen**\n",
    "\n",
    "To terminate your screen session, press C-a + k (Ctrl + a, then k), then press y on confirmation."
   ]
  }
 ],
 "metadata": {
  "kernelspec": {
   "display_name": "Python 3",
   "language": "python",
   "name": "python3"
  },
  "language_info": {
   "codemirror_mode": {
    "name": "ipython",
    "version": 3
   },
   "file_extension": ".py",
   "mimetype": "text/x-python",
   "name": "python",
   "nbconvert_exporter": "python",
   "pygments_lexer": "ipython3",
   "version": "3.7.6"
  }
 },
 "nbformat": 4,
 "nbformat_minor": 4
}
