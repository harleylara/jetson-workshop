{
 "cells": [
  {
   "cell_type": "markdown",
   "metadata": {},
   "source": [
    "# Improve Performance"
   ]
  },
  {
   "cell_type": "markdown",
   "metadata": {},
   "source": [
    "## Change Desktop Environment\n",
    "\n",
    "By default the desktop environment used on Jetson is GNOME, which is a visual environment with animations in the interaction and usability, that has a direct impact on memory usage.\n",
    "\n",
    "We can see the current amount of memory used by our jetson with the following command\n",
    "\n",
    "```bash\n",
    "    $ free\n",
    "```\n",
    "\n",
    "<center><img src=\"./assets/memory_gnome.png\"></center>\n",
    "\n",
    "In this case the Jetson is using 1,282,048 KB equivalent to 1.28 GB.\n",
    "\n",
    "The way to improve memory consumption is to change the desktop environment from GNOME to LXDE (Lightweight X11 Desktop Environment). LXDE prioritizes performance and memory usage which makes it perfect for applications with hardware limitations or simply optimizing performance, and is also the recommended [lightweight window manager alternative](https://docs.nvidia.com/jetson/l4t/index.html#page/Tegra%20Linux%20Driver%20Package%20Development%20Guide/window_system_lxde.html) by NVIDIA.\n",
    "\n",
    "```bash\n",
    "    $ wget https://raw.githubusercontent.com/jetsonhacks/installLXDE/main/installLXDE.sh && bash installLXDE.sh\n",
    "    $ sudo reboot\n",
    "```\n",
    "\n",
    "**After reboot** and **login with LXDE** desktop environment the memory consumption is 927,388 KB equivalent to 0.92 GB.\n",
    "\n",
    "```bash\n",
    "    $ free\n",
    "```\n",
    "\n",
    "<center><img src=\"./assets/memory_lxde.png\"></center>\n",
    "\n"
   ]
  },
  {
   "cell_type": "markdown",
   "metadata": {},
   "source": [
    "## Mounting Swap\n",
    "\n",
    "Run these commands on your Jetson.\n",
    "\n",
    "```\n",
    "sudo systemctl disable nvzramconfig\n",
    "sudo fallocate -l 4G /mnt/4GB.swap\n",
    "sudo mkswap /mnt/4GB.swap\n",
    "sudo swapon /mnt/4GB.swap\n",
    "```\n",
    "\n",
    "Then add the following line to the end of `/etc/fstab` to make the change persistent:\n",
    "\n",
    "```\n",
    "/mnt/4GB.swap  none  swap  sw 0  0\n",
    "```\n",
    "\n",
    "Now your swap file will automatically be mounted after reboots. To check the usage, run swapon -s or tegrastats. Disabling ZRAM (in-memory compressed swap) also free's up physical memory and requires a reboot to take effect."
   ]
  },
  {
   "cell_type": "markdown",
   "metadata": {},
   "source": [
    "## Disabling the Desktop GUI\n",
    "\n",
    "You can disable the desktop temporarily, run commands in the console\n",
    "\n",
    "```\n",
    "$ sudo init 3     # stop the desktop\n",
    "$ sudo init 5     # restart the desktop\n",
    "```\n",
    "\n",
    "If you wish to make this persistent across reboots, you can use the follow commands to change the boot-up behavior:\n",
    "\n",
    "```\n",
    "$ sudo systemctl set-default multi-user.target     # disable desktop on boot\n",
    "$ sudo systemctl set-default graphical.target      # enable desktop on boot\n",
    "```\n",
    "\n",
    "Then after you reboot, the desktop will remain disabled or enabled (whichever default you set)."
   ]
  }
 ],
 "metadata": {
  "kernelspec": {
   "display_name": "Python 3",
   "language": "python",
   "name": "python3"
  },
  "language_info": {
   "codemirror_mode": {
    "name": "ipython",
    "version": 3
   },
   "file_extension": ".py",
   "mimetype": "text/x-python",
   "name": "python",
   "nbconvert_exporter": "python",
   "pygments_lexer": "ipython3",
   "version": "3.7.6"
  }
 },
 "nbformat": 4,
 "nbformat_minor": 4
}
