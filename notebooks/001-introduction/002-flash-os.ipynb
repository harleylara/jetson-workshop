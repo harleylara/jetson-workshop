{
 "cells": [
  {
   "cell_type": "markdown",
   "metadata": {},
   "source": [
    "# Flash OS"
   ]
  },
  {
   "cell_type": "markdown",
   "metadata": {},
   "source": [
    "Download the [Jetson Nano Developer Kit SD Card Image](https://developer.nvidia.com/jetson-nano-sd-card-image), and note where it was saved on the computer.\n",
    "\n",
    "Write the image to your microSD card by following the instructions below according to your computer’s operating system: Windows, macOS, or Linux."
   ]
  },
  {
   "cell_type": "markdown",
   "metadata": {},
   "source": [
    "## For Windows Users\n",
    "\n",
    "**Download**, **install**, and **launch** [SD Memory Card Formatter for Windows](https://www.sdcard.org/downloads/formatter/sd-memory-card-formatter-for-windows-download/).\n",
    "\n",
    "<center><img src=\"./assets/sd_formatter.png\"></center>\n",
    "\n",
    "Select card drive, select **Quick format**, leave **Volume label** blank and click **Format** to start formatting, and **Yes** on the warning dialog.\n",
    "\n",
    "<center><img src=\"./assets/sd_formatter_2.png\"></center>\n",
    "\n",
    "**Download**, **install**, and **launch** [Etcher](https://www.balena.io/etcher).\n",
    "\n",
    "Use Etcher to write the Jetson Nano Developer Kit SD Card Image to your microSD card.\n",
    "\n",
    "<center><img src=\"./assets/etcher.png\"></center>\n",
    "\n",
    "Click **Select image** and choose the zipped image file downloaded earlier.\n",
    "\n",
    "Insert your microSD card if not already inserted. Click **Select drive** and choose the correct device.\n",
    "\n",
    "<center><img src=\"./assets/etcher_sd.png\"></center>\n",
    "\n",
    "Click **Flash!** It will take Etcher about 10 minutes to write and validate the image if your microSD card is connected via USB3.\n",
    "\n",
    "<center><img src=\"./assets/etcher_flash.png\"></center>"
   ]
  },
  {
   "cell_type": "markdown",
   "metadata": {},
   "source": [
    "## For Linux Users\n",
    "\n",
    "**Download**, **install**, and **launch** [Etcher](https://www.balena.io/etcher).\n",
    "\n",
    "<center><img src=\"./assets/etcher_linux.png\"></center>\n",
    "\n",
    "Click **Select image** and choose the zipped image file downloaded earlier.\n",
    "\n",
    "<center><img src=\"./assets/sd_image.png\"></center>\n",
    "\n",
    "Insert your microSD card. If you have no other external drives attached, Etcher will automatically select the microSD card as target device. Otherwise, click **Change** and choose the correct device.\n",
    "\n",
    "<center><img src=\"./assets/etcher_linux_2.png\"></center>\n",
    "\n",
    "Click **Flash!** Your OS may prompt for your username and password before it allows Etcher to proceed.\n",
    "\n",
    "It will take Etcher 10-15 minutes to write and validate the image if your microSD card is connected via USB3.\n",
    "\n",
    "After Etcher finishes, eject the SD Card.\n",
    "\n",
    "Physically remove microSD card from the computer."
   ]
  }
 ],
 "metadata": {
  "kernelspec": {
   "display_name": "Python 3",
   "language": "python",
   "name": "python3"
  },
  "language_info": {
   "codemirror_mode": {
    "name": "ipython",
    "version": 3
   },
   "file_extension": ".py",
   "mimetype": "text/x-python",
   "name": "python",
   "nbconvert_exporter": "python",
   "pygments_lexer": "ipython3",
   "version": "3.7.6"
  }
 },
 "nbformat": 4,
 "nbformat_minor": 4
}
